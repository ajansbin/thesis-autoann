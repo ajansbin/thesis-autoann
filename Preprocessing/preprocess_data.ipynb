{
 "cells": [
  {
   "cell_type": "code",
   "execution_count": 2,
   "metadata": {},
   "outputs": [],
   "source": [
    "from preprocessing import convert_results"
   ]
  },
  {
   "attachments": {},
   "cell_type": "markdown",
   "metadata": {},
   "source": [
    "#### Convert OD results from bottom to gravity center"
   ]
  },
  {
   "cell_type": "code",
   "execution_count": null,
   "metadata": {},
   "outputs": [],
   "source": [
    "result_path = '/staging/agp/masterthesis/2023autoann/storage/detection/CenterPoint/predictions/cp-zod-mini-results-train/pts_bbox/results_zod.json'\n",
    "save_path = '/staging/agp/masterthesis/2023autoann/storage/detection/CenterPoint/predictions/cp-zod-mini-results-train/pts_bbox/results_zod_gravity.json'\n",
    "convert_results.convert_to_gravity_center(result_path, save_path)"
   ]
  },
  {
   "attachments": {},
   "cell_type": "markdown",
   "metadata": {},
   "source": [
    "#### Convert results from LiDAR to world coordinate system"
   ]
  },
  {
   "cell_type": "code",
   "execution_count": 2,
   "metadata": {},
   "outputs": [
    {
     "name": "stderr",
     "output_type": "stream",
     "text": [
      "100%|██████████| 1/1 [00:00<00:00,  2.56it/s]\n"
     ]
    }
   ],
   "source": [
    "root_path = '/datasets/zod/zodv2'\n",
    "version = 'mini'\n",
    "split = 'train'\n",
    "\n",
    "result_path = '/staging/agp/masterthesis/2023autoann/storage/detection/CenterPoint/predictions/cp-zod-mini-results-train/pts_bbox/results_zod_gravity.json'\n",
    "save_path = '/staging/agp/masterthesis/2023autoann/storage/detection/CenterPoint/predictions/cp-zod-mini-results-train/pts_bbox/results_zod_gravity_glob.json'\n",
    "\n",
    "convert_results.convert_to_world('detections', result_path, root_path, version, split, save_path)"
   ]
  },
  {
   "attachments": {},
   "cell_type": "markdown",
   "metadata": {},
   "source": [
    "Check conversion"
   ]
  },
  {
   "cell_type": "code",
   "execution_count": 4,
   "metadata": {},
   "outputs": [
    {
     "name": "stdout",
     "output_type": "stream",
     "text": [
      "{'sample_token': '000000_quebec_2022-02-14T13:23:32.251875Z.npy', 'translation': [-33.51323318481445, 38.13139343261719, -5.653588712215424], 'size': [3.972907781600952, 1.8202615976333618, 1.5007754564285278], 'rotation': [0.6841311536141182, -0.0, -0.0, -0.7293590094422744], 'velocity': [0, 0, 0], 'detection_name': 'Vehicle', 'detection_score': 0.43544724583625793, 'attribute_name': ''}\n",
      "{'sample_token': '000000_quebec_2022-02-14T13:23:32.251875Z.npy', 'translation': [135.34431231749954, 19.50215783898234, -3.457932465617364], 'size': [3.972907781600952, 1.8202615976333618, 1.5007754564285278], 'rotation': [0.12356995910456145, -0.00067258513391992, -0.0005913513201358197, 0.9923354589753158], 'velocity': [0, 0, 0], 'detection_name': 'Vehicle', 'detection_score': 0.43544724583625793, 'attribute_name': ''}\n"
     ]
    }
   ],
   "source": [
    "import mmcv\n",
    "\n",
    "det = mmcv.load(result_path)\n",
    "det_upd = mmcv.load(save_path)\n",
    "\n",
    "print(det['results']['000000_quebec_2022-02-14T13:23:32.251875Z.npy'][0])\n",
    "print(det_upd['results']['000000_quebec_2022-02-14T13:23:32.251875Z.npy'][0])"
   ]
  },
  {
   "attachments": {},
   "cell_type": "markdown",
   "metadata": {},
   "source": [
    "### Convert from world to lidar coordinate system"
   ]
  },
  {
   "cell_type": "code",
   "execution_count": 3,
   "metadata": {},
   "outputs": [
    {
     "data": {
      "application/vnd.jupyter.widget-view+json": {
       "model_id": "248bad1f22bb400ca3569586b8b6cbd4",
       "version_major": 2,
       "version_minor": 0
      },
      "text/plain": [
       "Loading infos: 0it [00:00, ?it/s]"
      ]
     },
     "metadata": {},
     "output_type": "display_data"
    },
    {
     "name": "stderr",
     "output_type": "stream",
     "text": [
      " 14%|█▎        | 158/1165 [06:53<43:55,  2.62s/it]  \n"
     ]
    },
    {
     "ename": "KeyboardInterrupt",
     "evalue": "",
     "output_type": "error",
     "traceback": [
      "\u001b[0;31m---------------------------------------------------------------------------\u001b[0m",
      "\u001b[0;31mKeyboardInterrupt\u001b[0m                         Traceback (most recent call last)",
      "Cell \u001b[0;32mIn[3], line 8\u001b[0m\n\u001b[1;32m      5\u001b[0m result_path \u001b[39m=\u001b[39m \u001b[39m'\u001b[39m\u001b[39m/staging/agp/masterthesis/2023autoann/storage/tracking/SimpleTrack_zod_full_train_gravity/results/Vehicle/results.json\u001b[39m\u001b[39m'\u001b[39m\n\u001b[1;32m      6\u001b[0m save_path \u001b[39m=\u001b[39m \u001b[39m'\u001b[39m\u001b[39m/staging/agp/masterthesis/2023autoann/storage/tracking/SimpleTrack_zod_full_train_gravity/results/Vehicle/results_lidar.json\u001b[39m\u001b[39m'\u001b[39m\n\u001b[0;32m----> 8\u001b[0m convert_results\u001b[39m.\u001b[39;49mconvert_to_lidar(\u001b[39m'\u001b[39;49m\u001b[39mtracks\u001b[39;49m\u001b[39m'\u001b[39;49m, result_path, root_path, version, split, save_path)\n",
      "File \u001b[0;32m~/workspace/thesis-autoann/Preprocessing/preprocessing/convert_results.py:42\u001b[0m, in \u001b[0;36mconvert_to_lidar\u001b[0;34m(type, result_path, root_path, version, split, save_path)\u001b[0m\n\u001b[1;32m     41\u001b[0m \u001b[39mdef\u001b[39;00m \u001b[39mconvert_to_lidar\u001b[39m(\u001b[39mtype\u001b[39m, result_path, root_path, version, split, save_path):\n\u001b[0;32m---> 42\u001b[0m     convert_to(result_path, root_path, version, split, save_path, \u001b[39mtype\u001b[39;49m, \u001b[39m'\u001b[39;49m\u001b[39mlidar\u001b[39;49m\u001b[39m'\u001b[39;49m)\n",
      "File \u001b[0;32m~/workspace/thesis-autoann/Preprocessing/preprocessing/convert_results.py:65\u001b[0m, in \u001b[0;36mconvert_to\u001b[0;34m(result_path, root_path, version, split, save_path, type, convert_to)\u001b[0m\n\u001b[1;32m     63\u001b[0m \u001b[39mfor\u001b[39;00m lidar_frame \u001b[39min\u001b[39;00m lidar_frames[:\u001b[39m-\u001b[39m\u001b[39m1\u001b[39m]:\n\u001b[1;32m     64\u001b[0m     filepath \u001b[39m=\u001b[39m os\u001b[39m.\u001b[39mpath\u001b[39m.\u001b[39mbasename(lidar_frame\u001b[39m.\u001b[39mfilepath)\n\u001b[0;32m---> 65\u001b[0m     \u001b[39mif\u001b[39;00m filepath \u001b[39mnot\u001b[39;00m \u001b[39min\u001b[39;00m \u001b[39mlist\u001b[39;49m(data[\u001b[39m'\u001b[39;49m\u001b[39mresults\u001b[39;49m\u001b[39m'\u001b[39;49m]\u001b[39m.\u001b[39;49mkeys()):\n\u001b[1;32m     66\u001b[0m         \u001b[39mcontinue\u001b[39;00m\n\u001b[1;32m     67\u001b[0m     \u001b[39melse\u001b[39;00m:\n",
      "\u001b[0;31mKeyboardInterrupt\u001b[0m: "
     ]
    }
   ],
   "source": [
    "root_path = '/datasets/zod/zodv2'\n",
    "version = 'full'\n",
    "split = 'train'\n",
    "\n",
    "result_path = '/staging/agp/masterthesis/2023autoann/storage/tracking/SimpleTrack_zod_full_train_gravity/results/Vehicle/results.json'\n",
    "save_path = '/staging/agp/masterthesis/2023autoann/storage/tracking/SimpleTrack_zod_full_train_gravity/results/Vehicle/results_lidar.json'\n",
    "\n",
    "convert_results.convert_to_lidar('tracks', result_path, root_path, version, split, save_path)"
   ]
  },
  {
   "attachments": {},
   "cell_type": "markdown",
   "metadata": {},
   "source": [
    "### Preprocess annotations\n",
    "The annotations are motion compensated to camera key frame timestamp and must be shifted back to LiDAR timestamp.\n"
   ]
  },
  {
   "cell_type": "code",
   "execution_count": null,
   "metadata": {},
   "outputs": [],
   "source": [
    "from preprocessing import convert_annotations\n",
    "\n",
    "save_path = '/staging/agp/masterthesis/2023autoann/storage/annotations_test.json'\n",
    "convert_annotations.motion_compensate(root_path, save_path)"
   ]
  }
 ],
 "metadata": {
  "kernelspec": {
   "display_name": "base",
   "language": "python",
   "name": "python3"
  },
  "language_info": {
   "codemirror_mode": {
    "name": "ipython",
    "version": 3
   },
   "file_extension": ".py",
   "mimetype": "text/x-python",
   "name": "python",
   "nbconvert_exporter": "python",
   "pygments_lexer": "ipython3",
   "version": "3.8.16"
  },
  "orig_nbformat": 4,
  "vscode": {
   "interpreter": {
    "hash": "fd68b10c704c8b2adedec7d053ecf5e45a77a5521c9555d830c56f18df4089b5"
   }
  }
 },
 "nbformat": 4,
 "nbformat_minor": 2
}
